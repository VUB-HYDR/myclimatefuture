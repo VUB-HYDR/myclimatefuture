{
 "cells": [
  {
   "cell_type": "markdown",
   "metadata": {},
   "source": [
    "# MyClimateFuture\n",
    "This script is used to convert the CSV files to the JSON file that we use on the website."
   ]
  },
  {
   "cell_type": "code",
   "execution_count": 6,
   "metadata": {},
   "outputs": [],
   "source": [
    "using CSV\n",
    "using DataFrames\n",
    "using JSON"
   ]
  },
  {
   "cell_type": "markdown",
   "metadata": {},
   "source": [
    "First, some basic settings about the data:"
   ]
  },
  {
   "cell_type": "code",
   "execution_count": 18,
   "metadata": {
    "collapsed": true,
    "jupyter": {
     "outputs_hidden": true
    }
   },
   "outputs": [
    {
     "data": {
      "text/plain": [
       "3-element Array{Float64,1}:\n",
       " 1.5 \n",
       " 2.36\n",
       " 3.5 "
      ]
     },
     "execution_count": 18,
     "metadata": {},
     "output_type": "execute_result"
    }
   ],
   "source": [
    "MAX_AGE = 60\n",
    "AGES = [0:1:MAX_AGE;]\n",
    "\n",
    "TEMPERATURE_VALUES = [0.87, 0.95, 1.04, 1.12, 1.21, 1.29, 1.38, 1.5, 1.61, 1.73, 1.82, 1.91, 2, 2.09, 2.18, 2.27, 2.36, 2.46, 2.57, 2.67, 2.77, 2.88, 2.98, 3.08, 3.19, 3.29, 3.4, 3.5]\n",
    "\n",
    "RELEVANT_TEMPERATURES = [1.5, 2.36, 3.5]"
   ]
  },
  {
   "cell_type": "code",
   "execution_count": 5,
   "metadata": {
    "collapsed": true,
    "jupyter": {
     "outputs_hidden": true
    }
   },
   "outputs": [
    {
     "data": {
      "text/plain": [
       "(\"World\", \"East Asia & Pacific\", \"Europe & Central Asia\", \"Latin America & Caribbean\", \"Middle East & North Africa\", \"North America\", \"South Asia\", \"Sub-Saharan Africa\")"
      ]
     },
     "execution_count": 5,
     "metadata": {},
     "output_type": "execute_result"
    }
   ],
   "source": [
    "REGIONS = (\"World\", \"East Asia & Pacific\", \"Europe & Central Asia\", \"Latin America & Caribbean\", \"Middle East & North Africa\", \"North America\", \"South Asia\", \"Sub-Saharan Africa\")"
   ]
  },
  {
   "cell_type": "code",
   "execution_count": 8,
   "metadata": {
    "collapsed": true,
    "jupyter": {
     "outputs_hidden": true
    }
   },
   "outputs": [
    {
     "data": {
      "text/plain": [
       "(\"burntarea\", \"floodedarea\", \"cropfailedarea\", \"tropicalcyclonedarea\", \"driedarea\", \"heatwavedarea\")"
      ]
     },
     "execution_count": 8,
     "metadata": {},
     "output_type": "execute_result"
    }
   ],
   "source": [
    "RISKS = (\"burntarea\", \"floodedarea\", \"cropfailedarea\", \"tropicalcyclonedarea\", \"driedarea\", \"heatwavedarea\")"
   ]
  },
  {
   "cell_type": "markdown",
   "metadata": {},
   "source": [
    "This function gets the index for a specific temperature. Because we are only interested in 3 temperature values on the website, we convert them into indices to locate the values in the long data rows."
   ]
  },
  {
   "cell_type": "code",
   "execution_count": 19,
   "metadata": {
    "collapsed": true,
    "jupyter": {
     "outputs_hidden": true
    }
   },
   "outputs": [
    {
     "data": {
      "text/plain": [
       "3-element Array{Int64,1}:\n",
       "  8\n",
       " 17\n",
       " 28"
      ]
     },
     "execution_count": 19,
     "metadata": {},
     "output_type": "execute_result"
    }
   ],
   "source": [
    "function getIndicesFromValues(temperature)\n",
    "    findfirst(isequal(temperature), TEMPERATURE_VALUES)\n",
    "end\n",
    "\n",
    "TEMPERATURE_INDICES = map(x -> getIndicesFromValues(x), RELEVANT_TEMPERATURES)"
   ]
  },
  {
   "cell_type": "markdown",
   "metadata": {},
   "source": [
    "This function extracts the value from the specific temperature and age."
   ]
  },
  {
   "cell_type": "code",
   "execution_count": 22,
   "metadata": {},
   "outputs": [
    {
     "data": {
      "text/plain": [
       "getValueFromTempAndAge (generic function with 1 method)"
      ]
     },
     "execution_count": 22,
     "metadata": {},
     "output_type": "execute_result"
    }
   ],
   "source": [
    "function getValueFromTempAndAge(temperature, age, data)\n",
    "    parse(Float64, string(data[size(TEMPERATURE_VALUES, 1) - (temperature - 1), (MAX_AGE + 1) - age + 1]))\n",
    "end"
   ]
  },
  {
   "cell_type": "markdown",
   "metadata": {},
   "source": [
    "Next, let’s load a sample data set and use the function to recieve some data."
   ]
  },
  {
   "cell_type": "code",
   "execution_count": 23,
   "metadata": {},
   "outputs": [
    {
     "data": {
      "text/plain": [
       "1.2"
      ]
     },
     "execution_count": 23,
     "metadata": {},
     "output_type": "execute_result"
    }
   ],
   "source": [
    "sample = CSV.read(\"source/02_EMF_young2pic_burntarea_World.csv\", DataFrame, decimal=',')\n",
    "\n",
    "getValueFromTempAndAge(getIndicesFromValues(1.5), 60, sample)"
   ]
  },
  {
   "cell_type": "markdown",
   "metadata": {},
   "source": [
    "The next cell runs over all regions, risks, temperature indices and ages and stores the data in a nested arrays. It then writes these arrays to a JSON file."
   ]
  },
  {
   "cell_type": "code",
   "execution_count": 24,
   "metadata": {},
   "outputs": [],
   "source": [
    "rs = Array[]\n",
    "for r in REGIONS\n",
    "    is = Array[]\n",
    "    for i in RISKS\n",
    "        # println(\"Getting data for $(r) of type $(i)\")\n",
    "        datum = CSV.read(\"source/02_EMF_young2pic_$(i)_$(r).csv\", DataFrame, decimal=',')\n",
    "        ts = Array[]\n",
    "        for t in TEMPERATURE_INDICES\n",
    "            as = Float64[]\n",
    "            for a in AGES\n",
    "                value = getValueFromTempAndAge(t, a, datum)\n",
    "                # println(\"$(r) $(i) $(t) $(a): $(value)\")\n",
    "                push!(as, value)\n",
    "            end\n",
    "            push!(ts, as)\n",
    "        end\n",
    "        push!(is, ts)\n",
    "    end\n",
    "    push!(rs, is)\n",
    "end\n",
    "\n",
    "open(string(\"data.json\"), \"w\") do io\n",
    "    write(io, JSON.json(rs));\n",
    "end;"
   ]
  },
  {
   "cell_type": "markdown",
   "metadata": {},
   "source": [
    "The next cell is used to find out the order of the bars. We want the bars to get higher on average. So we summarise the values for each risk and then sort these values."
   ]
  },
  {
   "cell_type": "code",
   "execution_count": 25,
   "metadata": {},
   "outputs": [
    {
     "data": {
      "text/plain": [
       "6-element Array{Tuple{String,Float32},1}:\n",
       " (\"burntarea\", 2188.5)           \n",
       " (\"floodedarea\", 3188.5)         \n",
       " (\"cropfailedarea\", 4323.3)      \n",
       " (\"tropicalcyclonedarea\", 4649.8)\n",
       " (\"driedarea\", 7291.4)           \n",
       " (\"heatwavedarea\", 29102.6)      "
      ]
     },
     "execution_count": 25,
     "metadata": {},
     "output_type": "execute_result"
    }
   ],
   "source": [
    "sums = Tuple{String, Float32}[]\n",
    "for risk in RISKS\n",
    "    sum = 0\n",
    "    for region in REGIONS\n",
    "        datum = CSV.read(\"source/02_EMF_young2pic_$(risk)_$(region).csv\", DataFrame, decimal=',')\n",
    "        for temperature in TEMPERATURE_INDICES\n",
    "            for age in AGES\n",
    "                value = getValueFromTempAndAge(temperature, age, datum)\n",
    "                sum += value\n",
    "            end\n",
    "        end\n",
    "    end\n",
    "    push!(sums, (risk, sum))\n",
    "end\n",
    "\n",
    "sort!(sums, by = x -> x[2]);\n",
    "sums"
   ]
  },
  {
   "cell_type": "code",
   "execution_count": 103,
   "metadata": {},
   "outputs": [],
   "source": []
  }
 ],
 "metadata": {
  "kernelspec": {
   "display_name": "Julia 1.1.0",
   "language": "julia",
   "name": "julia-1.1"
  },
  "language_info": {
   "file_extension": ".jl",
   "mimetype": "application/julia",
   "name": "julia",
   "version": "1.1.0"
  }
 },
 "nbformat": 4,
 "nbformat_minor": 4
}
